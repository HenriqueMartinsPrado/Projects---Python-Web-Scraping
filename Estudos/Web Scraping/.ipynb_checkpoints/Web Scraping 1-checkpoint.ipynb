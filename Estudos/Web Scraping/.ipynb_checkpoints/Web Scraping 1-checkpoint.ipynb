{
 "cells": [
  {
   "cell_type": "markdown",
   "metadata": {},
   "source": [
    "# Scrapping"
   ]
  },
  {
   "cell_type": "code",
   "execution_count": 1,
   "metadata": {},
   "outputs": [],
   "source": [
    "# Importando as bibliotecas\n",
    "from bs4 import BeautifulSoup\n",
    "from requests import get\n",
    "import pandas as pd\n",
    "import itertools\n",
    "import matplotlib.pyplot as plt\n",
    "import seaborn as sns\n",
    "sns.set()"
   ]
  },
  {
   "cell_type": "code",
   "execution_count": 2,
   "metadata": {},
   "outputs": [],
   "source": [
    "# When we run the program, I’ll have a sleep command between pages, so we can mimic a “more human” behavior and don’t overload the site with several requests per second. \n",
    "# You will get blocked if you scrape too aggressively, so it’s a nice policy to be polite while scraping.\n",
    "headers = ({'User-Agent':\n",
    "            'Mozilla/5.0 (Windows NT 6.1) AppleWebKit/537.36 (KHTML, like Gecko) Chrome/41.0.2228.0 Safari/537.36'})"
   ]
  },
  {
   "cell_type": "code",
   "execution_count": 7,
   "metadata": {},
   "outputs": [],
   "source": [
    "zap = \"https://www.zapimoveis.com.br/venda/imoveis/sp+sao-paulo/?transacao=Venda&tipo=Im%C3%B3vel%20usado&onde=,S%C3%A3o%20Paulo,S%C3%A3o%20Paulo,,,,BR%3ESao%20Paulo%3ENULL%3ESao%20Paulo,-19.916681,-43.934493\" \n",
    "response = get(zap, headers=headers)"
   ]
  },
  {
   "cell_type": "code",
   "execution_count": 8,
   "metadata": {},
   "outputs": [
    {
     "name": "stdout",
     "output_type": "stream",
     "text": [
      "<Response [200]>\n"
     ]
    }
   ],
   "source": [
    "print(response)"
   ]
  },
  {
   "cell_type": "code",
   "execution_count": 10,
   "metadata": {},
   "outputs": [
    {
     "name": "stdout",
     "output_type": "stream",
     "text": [
      "<!DOCTYPE html>\n",
      "<html lang=\"pt-br\" data-vue-meta-server-rendered >\n",
      "  <head>\n",
      "    <meta data-vue-meta=\"ssr\" charset=\"utf-8\"><meta data-vue-meta=\"ssr\" name=\"viewport\" content=\"width=device-width, initial-scale=1.0, maximum-scale=5.0\"><meta data-vue-meta=\"ssr\" name=\"theme-color\" content=\"#007aa5\"><meta data-vue-meta=\"ssr\" name=\"description\" content=\"No ZAP Imóveis você encontra Imóveis à venda em São Paulo, SP. Confira as melhores ofertas de imóveis à venda e feche ótimos negócios!\"><meta data-vue-meta=\"ssr\" name=\"apple-itunes-app\" content=\"app-id=514620313\"><meta data-vue-meta=\"ssr\" name=\"robots\" content=\"NOINDEX,NOFOLLOW\"><meta data-vue-meta=\"ssr\" name=\"og:url\" content=\"https://www.zapimoveis.com.br/venda/imoveis/sp+sao-paulo/\"><meta data-vue-meta=\"ssr\" name=\"og:title\" content=\"Imóveis à venda em São Paulo, SP - ZAP Imóveis\"><meta data-vue-meta=\"ssr\" name=\"og:image\" content=\"https://assets.zap.com.br/assets/v4.1.4/zap-imoveis-ok.png?b644abc66fcea1f7a3eaee771aa038dc\"><meta data-vue-meta=\"\n"
     ]
    }
   ],
   "source": [
    "print(response.text[:1000])"
   ]
  },
  {
   "cell_type": "code",
   "execution_count": 11,
   "metadata": {},
   "outputs": [],
   "source": [
    "# BeatifulSoup - We need to define the Beautiful Soup object that will help us read this html. \n",
    "# That’s what BS does: it picks the text from the response and parses the information in a way that makes it easier for you to navigate in its structure and get its contents.\n",
    "html_soup = BeautifulSoup(response.text, 'html.parser')"
   ]
  },
  {
   "cell_type": "code",
   "execution_count": 14,
   "metadata": {},
   "outputs": [],
   "source": [
    "# html_soup "
   ]
  },
  {
   "cell_type": "code",
   "execution_count": 16,
   "metadata": {},
   "outputs": [],
   "source": [
    "# criando meu scrpper\n",
    "house_containers = html_soup.find_all('div', class_='card-container')"
   ]
  },
  {
   "cell_type": "code",
   "execution_count": 17,
   "metadata": {},
   "outputs": [],
   "source": [
    "first = house_containers[0]"
   ]
  },
  {
   "cell_type": "code",
   "execution_count": 23,
   "metadata": {},
   "outputs": [
    {
     "data": {
      "text/plain": [
       "[<span class=\"favorite__container\"><button aria-label=\"Favoritar\" class=\"link link-inverse link--icon-left link--icon favorite-button\" type=\"button\"><span class=\"icon icon-color--current\" style=\"width:24px;height:24px;\" view-box=\"0 0 24 24\"><svg height=\"24\" style=\"fill: currentColor\" width=\"24\" xmlns=\"http://www.w3.org/2000/svg\"><g fill=\"none\" fill-rule=\"evenodd\"><path d=\"M0 0H24V24H0z\"></path><path d=\"M7.68181818,4 C4.27583659,4 2,6.68291932 2,9.66905918 C2,12.47073 3.65840341,14.8921596 5.68607955,16.8030905 C7.71375568,18.7139995 10.1335123,20.1306538 11.7940341,20.9526674 C11.923466,21.0157775 12.076534,21.0157775 12.2059659,20.9526674 C13.8664877,20.1306538 16.2862443,18.7139995 18.3139205,16.8030905 C20.3415966,14.8921596 22,12.47073 22,9.66905918 C22,6.68291932 19.7241627,4 16.3181818,4 C14.3104082,4 12.976617,4.98215142 12,6.30986906 C11.023383,4.98215142 9.68959182,4 7.68181818,4 Z\" stroke=\"var(--icon-color)\" stroke-width=\"2\"></path></g></svg></span> </button></span>,\n",
       " <span class=\"icon icon-color--current\" style=\"width:24px;height:24px;\" view-box=\"0 0 24 24\"><svg height=\"24\" style=\"fill: currentColor\" width=\"24\" xmlns=\"http://www.w3.org/2000/svg\"><g fill=\"none\" fill-rule=\"evenodd\"><path d=\"M0 0H24V24H0z\"></path><path d=\"M7.68181818,4 C4.27583659,4 2,6.68291932 2,9.66905918 C2,12.47073 3.65840341,14.8921596 5.68607955,16.8030905 C7.71375568,18.7139995 10.1335123,20.1306538 11.7940341,20.9526674 C11.923466,21.0157775 12.076534,21.0157775 12.2059659,20.9526674 C13.8664877,20.1306538 16.2862443,18.7139995 18.3139205,16.8030905 C20.3415966,14.8921596 22,12.47073 22,9.66905918 C22,6.68291932 19.7241627,4 16.3181818,4 C14.3104082,4 12.976617,4.98215142 12,6.30986906 C11.023383,4.98215142 9.68959182,4 7.68181818,4 Z\" stroke=\"var(--icon-color)\" stroke-width=\"2\"></path></g></svg></span>,\n",
       " <span class=\"text-regular simple-card__text\">Com opções 1 e 2 qtos de 40 a 73 metros longe de serem quadrados. Várias opções de plantas, persiana nos quartos, tomada USB na suíte e portas com borracha amortecedora antirruído.<br/><br/>Condições comerciais: *Consulte informações comerciais com nossos corretores. <br/><br/>O fim do ano chega com uma oportunidade diferenciada para quem quer morar no funcionários.<br/><br/>São 11 opções diferentes de plantas, elaboradas para você aproveitar bem os espaços.<br/><br/>Acima do Home, só o Belo Horizonte de BH.<br/><br/>Aproveite condições especiais deste fim de ano (são válidas de a ).<br/><br/>Informações complementares: Rooftop de Lazer no 24º andar com fitness, piscina climatizada, espaço SPA e Lounge Gourmet. Elevadores com comando inteligente.Home Convenience: cyber laundry, bicicletário com bike sharing, WiFi, Concierge. Safe home: acesso exclusivo delivery, antecâmera de acesso, CFTV, sistema de segurança 24h, chegada segura.<br/><br/>Informações sobre o local do empreendimento: Localização Privilegiada : Na Rua Padre Marinho, esquina com a Avenida Brasil, na região centro sul de Belo Horizonte!</span>,\n",
       " <span class=\"icon icon-color--current\" style=\"width:24px;height:24px;\" view-box=\"0 0 24 24\"><svg style=\"fill: currentColor\" viewbox=\"0 0 24 24\" xmlns=\"http://www.w3.org/2000/svg\"><g fill=\"var(--icon-color)\"><path d=\"M18,19H5V6c0-0.6-0.4-1-1-1S3,5.4,3,6v13c0,1.1,0.9,2,2,2h13c0.6,0,1-0.4,1-1S18.6,19,18,19z\"></path><path d=\"M19.2,3H8.8C7.8,3,7,3.8,7,4.8v10.5c0,1,0.8,1.8,1.8,1.8h10.5c1,0,1.8-0.8,1.8-1.8V4.8C21,3.8,20.2,3,19.2,3z M19,15H9V5 h10V15z\"></path></g></svg></span>,\n",
       " <span>\n",
       "         40 - 73 m²\n",
       "         <!-- --></span>,\n",
       " <span class=\"icon icon-color--current\" style=\"width:24px;height:24px;\" view-box=\"0 0 24 24\"><svg style=\"fill: currentColor\" viewbox=\"0 0 24 24\" xmlns=\"http://www.w3.org/2000/svg\"><path d=\"M0 24L24 24 24 0 0 0z\" fill=\"none\"></path><path d=\"M21,14H3v-1c0-0.8,0.3-1.6,0.9-2.1C4.4,10.3,5.2,10,6,10h12c0.8,0,1.6,0.3,2.1,0.9c0.6,0.6,0.9,1.3,0.9,2.1 V14z M21,17h-1H4H3v-1h18V17z M5,8V6c0-0.6,0.4-1,1-1h4c0.6,0,1,0.4,1,1v2H6H5z M13,6c0-0.6,0.4-1,1-1h4c0.6,0,1,0.4,1,1v2h-1h-5V6 z M21,9V6c0-1.7-1.3-3-3-3h-4c-0.8,0-1.5,0.3-2,0.8C11.5,3.3,10.8,3,10,3H6C4.3,3,3,4.3,3,6v3c-1.2,0.9-2,2.4-2,4v6 c0,1.1,0.9,2,2,2h1v-2h16v2h1c1.1,0,2-0.9,2-2v-6C23,11.4,22.2,9.9,21,9z\" fill=\"var(--icon-color)\"></path></svg></span>,\n",
       " <span>\n",
       "         1 - 2 \n",
       "         <!-- --></span>,\n",
       " <span class=\"icon icon-color--current\" style=\"width:24px;height:24px;\" view-box=\"0 0 24 24\"><svg height=\"24\" style=\"fill: currentColor\" width=\"24\" xmlns=\"http://www.w3.org/2000/svg\"><g fill=\"none\" fill-rule=\"evenodd\"><path d=\"M0 24L24 24 24 0 0 0z\"></path><path d=\"M5.5615725,9 L18.4384475,9 L17.4384225,5 L6.5615475,5 L5.5615725,9 Z M18.9999975,11 L4.9999975,11 C4.4485725,11 3.9999975,11.4486 3.9999975,12 L3.9999975,17 L19.9999975,17 L19.9999975,12 C19.9999975,11.4486 19.5514225,11 18.9999975,11 Z M21.9999975,12 L21.9999975,21 L17.9999975,21 L17.9999975,19 L5.9999975,19 L5.9999975,21 L1.9999975,21 L1.9999975,12 C1.9999975,10.939175 2.5506225,10.006975 3.3816225,9.47355 L4.6212725,4.514925 C4.8438475,3.6246 5.6438225,3 6.5615475,3 L17.4384475,3 C18.3561725,3 19.1561475,3.6246 19.3787475,4.514925 L20.6183725,9.47355 C21.4493975,10.006975 21.9999975,10.939175 21.9999975,12 Z M16.4999975,12 C15.6715725,12 14.9999975,12.671575 14.9999975,13.5 C14.9999975,14.328425 15.6715725,15 16.4999975,15 C17.3284225,15 17.9999975,14.328425 17.9999975,13.5 C17.9999975,12.671575 17.3284225,12 16.4999975,12 Z M7.4999975,12 C8.3284225,12 8.9999975,12.671575 8.9999975,13.5 C8.9999975,14.328425 8.3284225,15 7.4999975,15 C6.6715725,15 5.9999975,14.328425 5.9999975,13.5 C5.9999975,12.671575 6.6715725,12 7.4999975,12 Z\" fill=\"var(--icon-color)\"></path></g></svg></span>,\n",
       " <span>\n",
       "         1 - 2 \n",
       "         <!-- --></span>,\n",
       " <span class=\"icon icon-color--current\" style=\"width:24px;height:24px;\" view-box=\"0 0 24 24\"><svg style=\"fill: currentColor\" viewbox=\"0 0 24 24\" xmlns=\"http://www.w3.org/2000/svg\"><path clip-rule=\"evenodd\" d=\"M0 24L24 24 24 0 0 0z\" fill=\"none\"></path><path d=\"M14,18h2v-5h-2V18z M18,16h2v-3h-2V16z M10,16h2v-3h-2V16z M21,9v2H9V9c0-1.1,0.9-2,2-2 h3V5H5v15c0,0.6-0.4,1-1,1s-1-0.4-1-1V5c0-1.1,0.9-2,2-2h9c1.1,0,2,0.9,2,2v2h3C20.1,7,21,7.9,21,9z\" fill=\"var(--icon-color)\"></path></svg></span>,\n",
       " <span>\n",
       "         1 \n",
       "         <!-- --></span>]"
      ]
     },
     "execution_count": 23,
     "metadata": {},
     "output_type": "execute_result"
    }
   ],
   "source": [
    "first.find_all('span')"
   ]
  },
  {
   "cell_type": "code",
   "execution_count": 24,
   "metadata": {},
   "outputs": [
    {
     "data": {
      "text/plain": [
       "'Com opções 1 e 2 qtos de 40 a 73 metros longe de serem quadrados. Várias opções de plantas, persiana nos quartos, tomada USB na suíte e portas com borracha amortecedora antirruído.Condições comerciais: *Consulte informações comerciais com nossos corretores. O fim do ano chega com uma oportunidade diferenciada para quem quer morar no funcionários.São 11 opções diferentes de plantas, elaboradas para você aproveitar bem os espaços.Acima do Home, só o Belo Horizonte de BH.Aproveite condições especiais deste fim de ano (são válidas de a ).Informações complementares: Rooftop de Lazer no 24º andar com fitness, piscina climatizada, espaço SPA e Lounge Gourmet. Elevadores com comando inteligente.Home Convenience: cyber laundry, bicicletário com bike sharing, WiFi, Concierge. Safe home: acesso exclusivo delivery, antecâmera de acesso, CFTV, sistema de segurança 24h, chegada segura.Informações sobre o local do empreendimento: Localização Privilegiada : Na Rua Padre Marinho, esquina com a Avenida Brasil, na região centro sul de Belo Horizonte!'"
      ]
     },
     "execution_count": 24,
     "metadata": {},
     "output_type": "execute_result"
    }
   ],
   "source": [
    "var_1 = first.find_all('span')[2].text\n",
    "var_1"
   ]
  },
  {
   "cell_type": "code",
   "execution_count": 26,
   "metadata": {},
   "outputs": [],
   "source": [
    "#var_1 = first.replace('\\xa0', '')\n",
    "#var_1"
   ]
  },
  {
   "cell_type": "code",
   "execution_count": null,
   "metadata": {},
   "outputs": [],
   "source": []
  }
 ],
 "metadata": {
  "kernelspec": {
   "display_name": "Python 3",
   "language": "python",
   "name": "python3"
  },
  "language_info": {
   "codemirror_mode": {
    "name": "ipython",
    "version": 3
   },
   "file_extension": ".py",
   "mimetype": "text/x-python",
   "name": "python",
   "nbconvert_exporter": "python",
   "pygments_lexer": "ipython3",
   "version": "3.5.3"
  }
 },
 "nbformat": 4,
 "nbformat_minor": 4
}
