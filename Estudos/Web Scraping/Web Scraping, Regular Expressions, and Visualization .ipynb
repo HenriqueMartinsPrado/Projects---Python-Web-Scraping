{
 "cells": [
  {
   "cell_type": "markdown",
   "metadata": {
    "colab_type": "text",
    "id": "8F-vlK3uAWH1"
   },
   "source": [
    "# Introduction\n",
    "\n",
    "This notebook is meant to serve as a small example project of how to get data from the web using Python. Here we will scrape the data from the web, parse the results using regular expressions, and visualize the data. This small project could probably be done a lot more efficiently by hand, but the ideas here are powerful and can be extended to much larger applications. There are many tools that a data scientist will need to use, and web scraping, regular expressions, and visualization are all good techniques to practice! "
   ]
  },
  {
   "cell_type": "markdown",
   "metadata": {
    "colab_type": "text",
    "id": "YuG1JtCLBU-I"
   },
   "source": [
    "# Web Scraping Using Requests and Beautiful Soup (bs4)"
   ]
  },
  {
   "cell_type": "code",
   "execution_count": 1,
   "metadata": {
    "colab": {
     "autoexec": {
      "startup": false,
      "wait_interval": 0
     }
    },
    "colab_type": "code",
    "id": "nAl0C2yPFita"
   },
   "outputs": [],
   "source": [
    "# requests for fetching html of website\n",
    "import requests\n",
    "\n",
    "# Make the request to a url\n",
    "r = requests.get('http://www.cleveland.com/metro/index.ssf/2017/12/case_western_reserve_university_president_barbara_snyders_base_salary_and_bonus_pay_tops_among_private_colleges_in_ohio.html')\n",
    "\n",
    "# Create soup from content of request\n",
    "c = r.content\n",
    "\n",
    "from bs4 import BeautifulSoup\n",
    "\n",
    "soup = BeautifulSoup(c)"
   ]
  },
  {
   "cell_type": "markdown",
   "metadata": {
    "colab_type": "text",
    "id": "YaPgkW1ZBq8e"
   },
   "source": [
    "We can find an element on the page by inspecting the page (right click and hit inspect element). We then use a series of HTML selectors to find the appropriate tags which contain the content we are interested in. The next code block finds the main text of the entire article. We will then further subset the text to the relevant table and save it as a text object. "
   ]
  },
  {
   "cell_type": "code",
   "execution_count": 2,
   "metadata": {
    "colab": {
     "autoexec": {
      "startup": false,
      "wait_interval": 0
     }
    },
    "colab_type": "code",
    "id": "owzwg4U1JWwa"
   },
   "outputs": [
    {
     "data": {
      "text/plain": [
       "<div class=\"entry-content\"><p class=\"article__paragraph article__paragraph--left\" id=\"UDT3SSNMTRCTFDQE6DBFNJODLI\">CLEVELAND, Ohio - <a href=\"http://www.case.edu/\">Case Western Reserve University </a>President Barbara Snyder's $700,312 base pay and $175,000 bonus in 2015 again made her the highest paid private college leader in Ohio, according to an annual report.</p><p class=\"article__paragraph article__paragraph--left\" id=\"AOJSWF2SO5F6NLAFYE77J7FAPI\">Nationally, Snyder's total compensation of $1.154 million, which can include deferred compensation and other pay, ranked 41st out of 541 presidents of private colleges according to the report by the <a href=\"http://chronicle.com/\">Chronicle of Higher Education.</a></p><div class=\"ad ad--in-article\" id=\"InContent_Center_AOJSWF2SO5F6NLAFYE77J7FAPI\"></div><p class=\"article__paragraph article__paragraph--left\" id=\"F67RF4SFXRGCPECJF3ZBO2YYL4\">She is among 58 presidents to earn $1 million or more. The previous year, 39 private college presidents earned more than $1 million.</p><p class=\"article__paragraph article__paragraph--left\" id=\"UFXHIG6ILBCMDANTJ35GKIILUI\">The Chronicle's <a href=\"https://www.chronicle.com/interactives/executive-compensation#id=table_private_2015\">compensation tables </a>come from a review of federal tax documents from the 2015 calendar year, the most recent available.</p><p class=\"article__paragraph article__paragraph--left\" id=\"6ZTUGCGUFBGOZIVNKBJZL5G2RI\">Former University of Dayton President Daniel Curran, who left in 2016, ranked eighth in the U.S. with a total compensation of $2.44 million, but $1.66 million of that was in other pay, which was likely deferred compensation awarded after he announced his retirement. His total pay in 2014 was $771,354.</p><p class=\"article__paragraph article__paragraph--left\" id=\"XMRBN5FAKRGNNMZAMDAN4NJ6DQ\">Following is total compensation for other presidents at private colleges in Ohio in 2015:</p><ul class=\"article__unordered-list\"><li class=\"article__unordered-list-item\">Grant Cornwell, College of Wooster (left in 2015): $911,651</li><li class=\"article__unordered-list-item\">Marvin Krislov, Oberlin College (left in 2016):  $829,913</li><li class=\"article__unordered-list-item\">Mark Roosevelt, Antioch College, (left in 2015): $507,672</li><li class=\"article__unordered-list-item\">Laurie Joyner, Wittenberg University (left in 2015): $463,504</li><li class=\"article__unordered-list-item\">Richard Giese, University of Mount Union (left in 2015): $453,800</li><li class=\"article__unordered-list-item\">Sean Decatur,Kenyon College: $451,698</li><li class=\"article__unordered-list-item\">Adam Weinberg, Denison University: $435,322</li><li class=\"article__unordered-list-item\">Daniel Dibiasio, Ohio Northern University: $414,716</li><li class=\"article__unordered-list-item\">Denvy Bowman, Capital University (left in 2016): $388,570</li><li class=\"article__unordered-list-item\">Anne Steele, Muskingum University (left in 2016): $384,233</li><li class=\"article__unordered-list-item\">Kathy Krendl, Otterbein University:  $378,035</li><li class=\"article__unordered-list-item\">Rockwell Jones, Ohio Wesleyan University: $366,625</li><li class=\"article__unordered-list-item\">Robert Helmer, Baldwin Wallace University: $365,616</li><li class=\"article__unordered-list-item\">Robert Huntington, Heidelberg University: $300,005</li><li class=\"article__unordered-list-item\">Lori Varlotta, Hiram College: $293,336</li><li class=\"article__unordered-list-item\">Joseph Bruno, Marietta College (left in 2016): $288,295</li><li class=\"article__unordered-list-item\">W. Richard Merriman Jr., University of Mount Union (started in June 2015): $221,761</li></ul><p class=\"article__paragraph article__paragraph--left\" id=\"M4AYF5E5WNCFHGUFHWIH6HRYNE\">The Rev. Robert Niehoff, president of John Carroll University (retired in 2017), Rev. Sean Sheridan of  Franciscan University of Steubenville and Rev. Michael Graham Xavier University do not take salaries.</p><p class=\"article__paragraph article__paragraph--left\" id=\"M6MHKDUHGFCLPAZIAC6YBJZR2U\">See the full list of presidents at <a href=\"http://www.chronicle.com/compensation\">chronicle.com/compensation.</a></p><p class=\"article__paragraph article__paragraph--left\" id=\"ONQJDU766NGCBN5GNQSAP6T2RQ\">The Chronicle's list of pay for public college presidents was released in July.</p><div id=\"fusion-static-enter:LCRM5FZWLNH75PHSXK4SMUKK4E\" style=\"display:none\"></div><div class=\"rawhtml\"><a href=\"http://www.cleveland.com/metro/index.ssf/2017/06/ohio_state_university_presiden_6.html\">Ohio State University President Michael Drake is 7th highest paid U.S. public college president</a></div><div id=\"fusion-static-exit:LCRM5FZWLNH75PHSXK4SMUKK4E\" style=\"display:none\"></div><p class=\"article__paragraph article__paragraph--left\" id=\"FXUGCLQM3VGPHBZIYHU7QYIX7M\">Ohio State President Michael Drake, with a total compensation of $1.03 million, was one of eight presidents who earned $1 million or more in the 2015-16 fiscal year.</p><p class=\"article__paragraph article__paragraph--left\" id=\"MGHBR3ZKW5BSFLD44TVOYWKRKY\">But when compared to Ohio State's 2014 annual $5.2 billion operating budget, Drake's pay per million in expenses is $199 -- among the lowest for presidents.</p><p class=\"article__paragraph article__paragraph--left\" id=\"ROTT7BNLAVETPKZADJYWYVGRNA\">By comparison, Cleveland State University President Ronald Berkman, whose total compensation was $641,817, oversaw an annual operating budget of $300.3 million in 2014. His pay per million in expenses was $2,127.</p><p class=\"article__paragraph article__paragraph--left\" id=\"AKAYEPSK6JBG5CRBW6QOZSIYRM\">Kent State University President Beverly Warren's pay per million in expenses was $1,006. Her total compensation was $560,659 and she oversaw an annual operating budget of $557.4 million in 2014.</p><p class=\"article__paragraph article__paragraph--left\" id=\"PCV2GHZLJVFKJPDDUEGKIXMUE4\">The<a href=\"http://www.chronicle.com/interactives/executive-compensation\"> Chronicle's analysis </a>was based on 254 presidents from 221 colleges.</p><p class=\"article__paragraph article__paragraph--left\" id=\"H2KCZCD4JBE63LKEOTILNNSDXU\">According to the Chronicle:</p><ul class=\"article__unordered-list\"><li class=\"article__unordered-list-item\">The average pay of private college presidents who served the full year in 2015 was $569,932, up 9 percent over presidents who served a full year in 2014.</li><li class=\"article__unordered-list-item\">Nine of the 10 highest-paid chief executives earned more from bonuses and deferred compensation than they did from base salaries.</li><li class=\"article__unordered-list-item\">The analysis is based on the latest available federal tax filings of the 500 private, nonprofit colleges with the largest endowments. The data include compensation figures for 568 presidents who served at 500 institutions for all or part of 2015. There were 352 presidents who served all of 2014 and 2015.</li><li class=\"article__unordered-list-item\">The number of presidents earning over $1 million is attributed, in part, to a market where presidents are negotiating more deferred compensation and bonus packages before they take the job.</li><li class=\"article__unordered-list-item\">The top two earners, Wake Forest University President Nathan Hatch ($4 million) and former Emory University President James Wagner ($3.5 million) were each paid more than $2 million in deferred compensation in 2015.</li></ul><p class=\"article__paragraph article__paragraph--left\" id=\"4KNMVXOWABEBBAIV7KC5365ISE\">The Chronicle also compares pay to presidents in context of their colleges, including looking at each institution's expenses, average tuition and fees and professor salaries.</p></div>"
      ]
     },
     "execution_count": 2,
     "metadata": {},
     "output_type": "execute_result"
    }
   ],
   "source": [
    "# Find the element on the webpage\n",
    "main_content = soup.find('div', attrs = {'class': 'entry-content'})\n",
    "main_content"
   ]
  },
  {
   "cell_type": "code",
   "execution_count": 3,
   "metadata": {
    "colab": {
     "autoexec": {
      "startup": false,
      "wait_interval": 0
     }
    },
    "colab_type": "code",
    "id": "bTYLGSParbOH"
   },
   "outputs": [
    {
     "name": "stdout",
     "output_type": "stream",
     "text": [
      "('Grant Cornwell, College of Wooster (left in 2015): $911,651Marvin Krislov, '\n",
      " 'Oberlin College (left in 2016): \\xa0$829,913Mark Roosevelt, Antioch College, '\n",
      " '(left in 2015): $507,672Laurie Joyner, Wittenberg University (left in 2015): '\n",
      " '$463,504Richard Giese, University of Mount Union (left in 2015): '\n",
      " '$453,800Sean Decatur,Kenyon College: $451,698Adam Weinberg, Denison '\n",
      " 'University: $435,322Daniel Dibiasio, Ohio Northern University: $414,716Denvy '\n",
      " 'Bowman, Capital University (left in 2016): $388,570Anne Steele, Muskingum '\n",
      " 'University (left in 2016): $384,233Kathy Krendl, Otterbein University: \\xa0'\n",
      " '$378,035Rockwell Jones, Ohio Wesleyan University: $366,625Robert Helmer, '\n",
      " 'Baldwin Wallace University: $365,616Robert Huntington, Heidelberg '\n",
      " 'University: $300,005Lori Varlotta, Hiram College: $293,336Joseph Bruno, '\n",
      " 'Marietta College (left in 2016): $288,295W. Richard Merriman Jr., University '\n",
      " 'of Mount Union (started in June 2015): $221,761')\n"
     ]
    }
   ],
   "source": [
    "# Extract the relevant information\n",
    "content = main_content.find('ul').text\n",
    "\n",
    "import pprint\n",
    "pprint.pprint(content)"
   ]
  },
  {
   "cell_type": "markdown",
   "metadata": {
    "colab_type": "text",
    "id": "vusj0xMpCNdn"
   },
   "source": [
    "We know have the data we need to focus on as a text string. The next step is to parse this information using regular expressions to identify the presidents, colleges, and salaries. Regular Expressions are intimidating at first, and require practice to learn to use effectively. I am definitely not an expert, and am using this project partly to get more familiar with regular expressions. The best place to get started is simply with the [Python Documentation](https://docs.python.org/3/library/re.html) for the `re` library."
   ]
  },
  {
   "cell_type": "markdown",
   "metadata": {
    "colab_type": "text",
    "id": "VMeuScw5szZl"
   },
   "source": [
    "# Regular Expressions Using `re`"
   ]
  },
  {
   "cell_type": "markdown",
   "metadata": {
    "colab_type": "text",
    "id": "9QE7mDVGs2vo"
   },
   "source": [
    "## Presidents\n",
    "\n",
    "First we want to extract the names of the presidents. We do this taking advantage of the fact that the names come at the beginning of each newline. We therefore use an expression in the multiline mode, which treats every newline character as the end of the string (so the next character is the start of a string). The names also all end with a comma, so we can use this to bound the names. "
   ]
  },
  {
   "cell_type": "code",
   "execution_count": 4,
   "metadata": {
    "colab": {
     "autoexec": {
      "startup": false,
      "wait_interval": 0
     }
    },
    "colab_type": "code",
    "id": "U0MUZA5eOy9s"
   },
   "outputs": [
    {
     "data": {
      "text/plain": [
       "['Grant Cornwell']"
      ]
     },
     "execution_count": 4,
     "metadata": {},
     "output_type": "execute_result"
    }
   ],
   "source": [
    "import re\n",
    "\n",
    "# Create a pattern to match names\n",
    "name_pattern = re.compile(r'^([A-Z]{1}.+?)(?:,)', flags = re.M)\n",
    "name_pattern.findall(content)"
   ]
  },
  {
   "cell_type": "code",
   "execution_count": 5,
   "metadata": {
    "colab": {
     "autoexec": {
      "startup": false,
      "wait_interval": 0
     }
    },
    "colab_type": "code",
    "id": "7wL_BHOGQC2w"
   },
   "outputs": [],
   "source": [
    "names = name_pattern.findall(content)"
   ]
  },
  {
   "cell_type": "markdown",
   "metadata": {
    "colab_type": "text",
    "id": "SnfSRd9ks9Aa"
   },
   "source": [
    "## Colleges\n",
    "\n",
    "The next piece of information to extract is the name of the schools. We can use the fact that each school name is preceded either by a comma (Kenyon College) or a comma and a space (I don't think this was intentional, but we can handle it). Each school name ends with a colon `:` or with a space and a left parenthesis ` (` or with a comma `,`. We use both of these to bound the college expression and extract the useful information. "
   ]
  },
  {
   "cell_type": "code",
   "execution_count": 6,
   "metadata": {
    "colab": {
     "autoexec": {
      "startup": false,
      "wait_interval": 0
     }
    },
    "colab_type": "code",
    "id": "BpI3uEHoP3X-"
   },
   "outputs": [
    {
     "name": "stdout",
     "output_type": "stream",
     "text": [
      "('Grant Cornwell, College of Wooster (left in 2015): $911,651Marvin Krislov, '\n",
      " 'Oberlin College (left in 2016): \\xa0$829,913Mark Roosevelt, Antioch College, '\n",
      " '(left in 2015): $507,672Laurie Joyner, Wittenberg University (left in 2015): '\n",
      " '$463,504Richard Giese, University of Mount Union (left in 2015): '\n",
      " '$453,800Sean Decatur,Kenyon College: $451,698Adam Weinberg, Denison '\n",
      " 'University: $435,322Daniel Dibiasio, Ohio Northern University: $414,716Denvy '\n",
      " 'Bowman, Capital University (left in 2016): $388,570Anne Steele, Muskingum '\n",
      " 'University (left in 2016): $384,233Kathy Krendl, Otterbein University: \\xa0'\n",
      " '$378,035Rockwell Jones, Ohio Wesleyan University: $366,625Robert Helmer, '\n",
      " 'Baldwin Wallace University: $365,616Robert Huntington, Heidelberg '\n",
      " 'University: $300,005Lori Varlotta, Hiram College: $293,336Joseph Bruno, '\n",
      " 'Marietta College (left in 2016): $288,295W. Richard Merriman Jr., University '\n",
      " 'of Mount Union (started in June 2015): $221,761')\n"
     ]
    }
   ],
   "source": [
    "# Remind ourselves what our soup looks like\n",
    "pprint.pprint(content)"
   ]
  },
  {
   "cell_type": "code",
   "execution_count": 7,
   "metadata": {
    "colab": {
     "autoexec": {
      "startup": false,
      "wait_interval": 0
     }
    },
    "colab_type": "code",
    "id": "LiDpUp7IJ8LY"
   },
   "outputs": [
    {
     "data": {
      "text/plain": [
       "['College of Wooster',\n",
       " 'Oberlin College',\n",
       " 'Antioch College',\n",
       " 'Wittenberg University',\n",
       " 'University of Mount Union',\n",
       " 'Kenyon College',\n",
       " 'Denison University',\n",
       " 'Ohio Northern University',\n",
       " 'Capital University',\n",
       " 'Muskingum University',\n",
       " 'Otterbein University',\n",
       " 'Ohio Wesleyan University',\n",
       " 'Baldwin Wallace University',\n",
       " 'Heidelberg University',\n",
       " 'Hiram College',\n",
       " 'Marietta College',\n",
       " 'University of Mount Union']"
      ]
     },
     "execution_count": 7,
     "metadata": {},
     "output_type": "execute_result"
    }
   ],
   "source": [
    "# Make school patttern and examine results\n",
    "school_pattern = re.compile(r'(?:,|,\\s)([A-Z]{1}.*?)(?:\\s\\(|:|,)')\n",
    "school_pattern.findall(content)"
   ]
  },
  {
   "cell_type": "code",
   "execution_count": 15,
   "metadata": {
    "colab": {
     "autoexec": {
      "startup": false,
      "wait_interval": 0
     }
    },
    "colab_type": "code",
    "id": "qVArEMqRRhcs"
   },
   "outputs": [
    {
     "data": {
      "text/plain": [
       "['College of Wooster',\n",
       " 'Oberlin College',\n",
       " 'Antioch College',\n",
       " 'Wittenberg University',\n",
       " 'University of Mount Union',\n",
       " 'Kenyon College',\n",
       " 'Denison University',\n",
       " 'Ohio Northern University',\n",
       " 'Capital University',\n",
       " 'Muskingum University',\n",
       " 'Otterbein University',\n",
       " 'Ohio Wesleyan University',\n",
       " 'Baldwin Wallace University',\n",
       " 'Heidelberg University',\n",
       " 'Hiram College',\n",
       " 'Marietta College',\n",
       " 'University of Mount Union']"
      ]
     },
     "execution_count": 15,
     "metadata": {},
     "output_type": "execute_result"
    }
   ],
   "source": [
    "# Extract the schools\n",
    "schools = school_pattern.findall(content)\n",
    "schools"
   ]
  },
  {
   "cell_type": "markdown",
   "metadata": {
    "colab_type": "text",
    "id": "UH8jq4O8tI7c"
   },
   "source": [
    "## Salaries\n",
    "\n",
    "Finally, we need to get the salaries. This is relatively easy because all of the salaries are preceded by a dollar sign. Once we have extract the salaries as strings, we can use a Python list comprehension to remove the $ , and convert the string to a float. This uses a few Python shortcuts, and I like how elegant the list comprehension is. Writing Python can really a joy! "
   ]
  },
  {
   "cell_type": "code",
   "execution_count": 16,
   "metadata": {
    "colab": {
     "autoexec": {
      "startup": false,
      "wait_interval": 0
     }
    },
    "colab_type": "code",
    "id": "tcIb831uSiii"
   },
   "outputs": [
    {
     "data": {
      "text/plain": [
       "['$911,651Marvin Krislov, Oberlin College (left in 2016): \\xa0$829,913Mark Roosevelt, Antioch College, (left in 2015): $507,672Laurie Joyner, Wittenberg University (left in 2015): $463,504Richard Giese, University of Mount Union (left in 2015): $453,800Sean Decatur,Kenyon College: $451,698Adam Weinberg, Denison University: $435,322Daniel Dibiasio, Ohio Northern University: $414,716Denvy Bowman, Capital University (left in 2016): $388,570Anne Steele, Muskingum University (left in 2016): $384,233Kathy Krendl, Otterbein University: \\xa0$378,035Rockwell Jones, Ohio Wesleyan University: $366,625Robert Helmer, Baldwin Wallace University: $365,616Robert Huntington, Heidelberg University: $300,005Lori Varlotta, Hiram College: $293,336Joseph Bruno, Marietta College (left in 2016): $288,295W. Richard Merriman Jr., University of Mount Union (started in June 2015): $221,761']"
      ]
     },
     "execution_count": 16,
     "metadata": {},
     "output_type": "execute_result"
    }
   ],
   "source": [
    "# Pattern to match the salaries\n",
    "salary_pattern = re.compile(r'\\$.+')\n",
    "salary_pattern.findall(content)"
   ]
  },
  {
   "cell_type": "markdown",
   "metadata": {
    "colab_type": "text",
    "id": "9cMR7Z_2tSSw"
   },
   "source": [
    "### Converting Dollar Strings to Numbers\n",
    "\n",
    "First we can see a brief example of each of the steps in the list comprehension. We use the `split` method to split each string into two separate strings at the comma (starting with the first character after the $). Then, we `join`, the two strings together with no separating character and convert the result to a float. All of this is wrapped in a list comprehension. The end result is a list of numeric values representing the Presidents' salaries."
   ]
  },
  {
   "cell_type": "code",
   "execution_count": 17,
   "metadata": {
    "colab": {
     "autoexec": {
      "startup": false,
      "wait_interval": 0
     }
    },
    "colab_type": "code",
    "id": "P4f2TmO2E-D4"
   },
   "outputs": [
    {
     "data": {
      "text/plain": [
       "['876', '001']"
      ]
     },
     "execution_count": 17,
     "metadata": {},
     "output_type": "execute_result"
    }
   ],
   "source": [
    "# Messy salary\n",
    "salary = '$876,001'\n",
    "\n",
    "# Exclude the $ and split the string on the comma\n",
    "salary[1:].split(',')"
   ]
  },
  {
   "cell_type": "code",
   "execution_count": 18,
   "metadata": {
    "colab": {
     "autoexec": {
      "startup": false,
      "wait_interval": 0
     }
    },
    "colab_type": "code",
    "id": "7Hndq4TAFJWI"
   },
   "outputs": [
    {
     "data": {
      "text/plain": [
       "'876001'"
      ]
     },
     "execution_count": 18,
     "metadata": {},
     "output_type": "execute_result"
    }
   ],
   "source": [
    "# Same operation but now join the list with no space\n",
    "''.join(salary[1:].split(','))"
   ]
  },
  {
   "cell_type": "code",
   "execution_count": 19,
   "metadata": {
    "colab": {
     "autoexec": {
      "startup": false,
      "wait_interval": 0
     }
    },
    "colab_type": "code",
    "id": "XKzwukqRFXvY"
   },
   "outputs": [
    {
     "data": {
      "text/plain": [
       "876001.0"
      ]
     },
     "execution_count": 19,
     "metadata": {},
     "output_type": "execute_result"
    }
   ],
   "source": [
    "# Finally convert the string to a float\n",
    "float(''.join(salary[1:].split(',')))"
   ]
  },
  {
   "cell_type": "markdown",
   "metadata": {
    "colab_type": "text",
    "id": "7Kf6u5poFdNQ"
   },
   "source": [
    "#### Example List Comprehension to Test Method"
   ]
  },
  {
   "cell_type": "code",
   "execution_count": 20,
   "metadata": {
    "colab": {
     "autoexec": {
      "startup": false,
      "wait_interval": 0
     }
    },
    "colab_type": "code",
    "id": "S9rfMCTyVWbQ"
   },
   "outputs": [
    {
     "data": {
      "text/plain": [
       "[876001, 543903, 2453896]"
      ]
     },
     "execution_count": 20,
     "metadata": {},
     "output_type": "execute_result"
    }
   ],
   "source": [
    "# Messy salaries\n",
    "salaries = ['$876,001', '$543,903', '$2453,896']\n",
    "\n",
    "# Convert salaries to numbers using the above procedure in a list comprehension \n",
    "[int(''.join(s[1:].split(','))) for s in salaries]"
   ]
  },
  {
   "cell_type": "code",
   "execution_count": 22,
   "metadata": {
    "colab": {
     "autoexec": {
      "startup": false,
      "wait_interval": 0
     }
    },
    "colab_type": "code",
    "collapsed": true,
    "id": "O6-YQ_wjT8Ji",
    "jupyter": {
     "outputs_hidden": true
    }
   },
   "outputs": [
    {
     "ename": "ValueError",
     "evalue": "invalid literal for int() with base 10: '911651Marvin Krislov Oberlin College (left in 2016): \\xa0$829913Mark Roosevelt Antioch College (left in 2015): $507672Laurie Joyner Wittenberg University (left in 2015): $463504Richard Giese Universi",
     "output_type": "error",
     "traceback": [
      "\u001b[1;31m---------------------------------------------------------------------------\u001b[0m",
      "\u001b[1;31mValueError\u001b[0m                                Traceback (most recent call last)",
      "\u001b[1;32m<ipython-input-22-b9319f989407>\u001b[0m in \u001b[0;36m<module>\u001b[1;34m\u001b[0m\n\u001b[0;32m      4\u001b[0m \u001b[1;33m\u001b[0m\u001b[0m\n\u001b[0;32m      5\u001b[0m \u001b[1;31m# List comprehension to convert strings to floats\u001b[0m\u001b[1;33m\u001b[0m\u001b[1;33m\u001b[0m\u001b[0m\n\u001b[1;32m----> 6\u001b[1;33m \u001b[0msalaries\u001b[0m \u001b[1;33m=\u001b[0m \u001b[1;33m[\u001b[0m\u001b[0mint\u001b[0m\u001b[1;33m(\u001b[0m\u001b[1;34m''\u001b[0m\u001b[1;33m.\u001b[0m\u001b[0mjoin\u001b[0m\u001b[1;33m(\u001b[0m\u001b[0ms\u001b[0m\u001b[1;33m[\u001b[0m\u001b[1;36m1\u001b[0m\u001b[1;33m:\u001b[0m\u001b[1;33m]\u001b[0m\u001b[1;33m.\u001b[0m\u001b[0msplit\u001b[0m\u001b[1;33m(\u001b[0m\u001b[1;34m','\u001b[0m\u001b[1;33m)\u001b[0m\u001b[1;33m)\u001b[0m\u001b[1;33m)\u001b[0m \u001b[1;32mfor\u001b[0m \u001b[0ms\u001b[0m \u001b[1;32min\u001b[0m \u001b[0msalaries\u001b[0m\u001b[1;33m]\u001b[0m\u001b[1;33m\u001b[0m\u001b[0m\n\u001b[0m",
      "\u001b[1;32m<ipython-input-22-b9319f989407>\u001b[0m in \u001b[0;36m<listcomp>\u001b[1;34m(.0)\u001b[0m\n\u001b[0;32m      4\u001b[0m \u001b[1;33m\u001b[0m\u001b[0m\n\u001b[0;32m      5\u001b[0m \u001b[1;31m# List comprehension to convert strings to floats\u001b[0m\u001b[1;33m\u001b[0m\u001b[1;33m\u001b[0m\u001b[0m\n\u001b[1;32m----> 6\u001b[1;33m \u001b[0msalaries\u001b[0m \u001b[1;33m=\u001b[0m \u001b[1;33m[\u001b[0m\u001b[0mint\u001b[0m\u001b[1;33m(\u001b[0m\u001b[1;34m''\u001b[0m\u001b[1;33m.\u001b[0m\u001b[0mjoin\u001b[0m\u001b[1;33m(\u001b[0m\u001b[0ms\u001b[0m\u001b[1;33m[\u001b[0m\u001b[1;36m1\u001b[0m\u001b[1;33m:\u001b[0m\u001b[1;33m]\u001b[0m\u001b[1;33m.\u001b[0m\u001b[0msplit\u001b[0m\u001b[1;33m(\u001b[0m\u001b[1;34m','\u001b[0m\u001b[1;33m)\u001b[0m\u001b[1;33m)\u001b[0m\u001b[1;33m)\u001b[0m \u001b[1;32mfor\u001b[0m \u001b[0ms\u001b[0m \u001b[1;32min\u001b[0m \u001b[0msalaries\u001b[0m\u001b[1;33m]\u001b[0m\u001b[1;33m\u001b[0m\u001b[0m\n\u001b[0m",
      "\u001b[1;31mValueError\u001b[0m: invalid literal for int() with base 10: '911651Marvin Krislov Oberlin College (left in 2016): \\xa0$829913Mark Roosevelt Antioch College (left in 2015): $507672Laurie Joyner Wittenberg University (left in 2015): $463504Richard Giese Universi"
     ]
    }
   ],
   "source": [
    "# Extract all the salaries and convert to integers\n",
    "salaries = salary_pattern.findall(content)\n",
    "salaries\n",
    "\n",
    "# List comprehension to convert strings to floats\n",
    "salaries = [int(''.join(s[1:].split(','))) for s in salaries]"
   ]
  },
  {
   "cell_type": "code",
   "execution_count": 23,
   "metadata": {
    "colab": {
     "autoexec": {
      "startup": false,
      "wait_interval": 0
     }
    },
    "colab_type": "code",
    "id": "f84SCQCzUaim"
   },
   "outputs": [
    {
     "data": {
      "text/plain": [
       "['$911,651Marvin Krislov, Oberlin College (left in 2016): \\xa0$829,913Mark Roosevelt, Antioch College, (left in 2015): $507,672Laurie Joyner, Wittenberg University (left in 2015): $463,504Richard Giese, University of Mount Union (left in 2015): $453,800Sean Decatur,Kenyon College: $451,698Adam Weinberg, Denison University: $435,322Daniel Dibiasio, Ohio Northern University: $414,716Denvy Bowman, Capital University (left in 2016): $388,570Anne Steele, Muskingum University (left in 2016): $384,233Kathy Krendl, Otterbein University: \\xa0$378,035Rockwell Jones, Ohio Wesleyan University: $366,625Robert Helmer, Baldwin Wallace University: $365,616Robert Huntington, Heidelberg University: $300,005Lori Varlotta, Hiram College: $293,336Joseph Bruno, Marietta College (left in 2016): $288,295W. Richard Merriman Jr., University of Mount Union (started in June 2015): $221,761']"
      ]
     },
     "execution_count": 23,
     "metadata": {},
     "output_type": "execute_result"
    }
   ],
   "source": [
    "salaries"
   ]
  },
  {
   "cell_type": "code",
   "execution_count": 24,
   "metadata": {
    "colab": {
     "autoexec": {
      "startup": false,
      "wait_interval": 0
     }
    },
    "colab_type": "code",
    "id": "2Z40AFYOP1_M"
   },
   "outputs": [
    {
     "data": {
      "text/plain": [
       "False"
      ]
     },
     "execution_count": 24,
     "metadata": {},
     "output_type": "execute_result"
    }
   ],
   "source": [
    "# Sanity check to make sure everything is correct!\n",
    "len(names) == len(schools) == len(salaries)"
   ]
  },
  {
   "cell_type": "markdown",
   "metadata": {
    "colab_type": "text",
    "id": "SkpO7ODMte0D"
   },
   "source": [
    "# Visualization \n",
    "\n",
    "We will use the `matplotlib` and `seaborn` libraries for visualizing the results. `matplotlib` is great for creating quick visualizations, and I like the aesthetic style of `seaborn`. We'll start off by storing the data in a `pandas` dataframe, the common data structure of choice for data science.\n",
    "\n",
    "Here I am manually adding in my President's information to the dataframe. Sometimes knowing when it is faster to just do something by hand rather than writing a complicated program is a vital skill in data science."
   ]
  },
  {
   "cell_type": "code",
   "execution_count": null,
   "metadata": {
    "colab": {
     "autoexec": {
      "startup": false,
      "wait_interval": 0
     }
    },
    "colab_type": "code",
    "id": "y25EZdiHUmt6"
   },
   "outputs": [],
   "source": [
    "import pandas as pd\n",
    "\n",
    "# Put information into a dataframe\n",
    "df = pd.DataFrame({'salary': salaries, \n",
    "                   'President': names,\n",
    "                   'College': schools})\n",
    "\n",
    "# Append information\n",
    "df.loc[17, :] = ['CWRU', 'Barbara Synder', 1154000]\n",
    "\n",
    "# Sort the values by highest to lowest salary\n",
    "df = df.sort_values('salary', ascending=False).reset_index().drop(columns='index')"
   ]
  },
  {
   "cell_type": "code",
   "execution_count": null,
   "metadata": {
    "colab": {
     "autoexec": {
      "startup": false,
      "wait_interval": 0
     }
    },
    "colab_type": "code",
    "id": "j887NjcRt0No"
   },
   "outputs": [],
   "source": [
    "df"
   ]
  },
  {
   "cell_type": "markdown",
   "metadata": {
    "colab_type": "text",
    "id": "6thdceSxt9-0"
   },
   "source": [
    "## Quick First Visualization\n",
    "\n",
    "We can use plotting functionality built into pandas to rapidly create an initial figure. This at least conveys the information although it does not look very nice! "
   ]
  },
  {
   "cell_type": "code",
   "execution_count": null,
   "metadata": {
    "colab": {
     "autoexec": {
      "startup": false,
      "wait_interval": 0
     }
    },
    "colab_type": "code",
    "id": "4zc1dqY0ZlrS"
   },
   "outputs": [],
   "source": [
    "df.plot(kind='barh', x = 'President', y = 'salary');"
   ]
  },
  {
   "cell_type": "markdown",
   "metadata": {
    "colab_type": "text",
    "id": "HYD2lStbuChr"
   },
   "source": [
    "## Improve the Plot\n",
    "\n",
    "Now comes an iterative procedure of improving the graphic. A lot of this involves using Stack Overflow and the [seaborn documentation](https://seaborn.pydata.org/generated/seaborn.barplot.html) to figure out how to make the plot look exactly like we want it. Plotting syntax often is pretty complicated, but don't worry about the specifics. You will always be able to look these up or build on old plots you or others made."
   ]
  },
  {
   "cell_type": "code",
   "execution_count": null,
   "metadata": {
    "colab": {
     "autoexec": {
      "startup": false,
      "wait_interval": 0
     }
    },
    "colab_type": "code",
    "id": "LvceG6InaGDU"
   },
   "outputs": [],
   "source": [
    "import matplotlib.pyplot as plt\n",
    "%matplotlib inline\n",
    "\n",
    "# Pick a style\n",
    "plt.style.use('fivethirtyeight')\n",
    "plt.rcParams['font.size'] = 16\n",
    "\n",
    "import seaborn as sns\n",
    "\n",
    "# Sort the values by highest to lowest salary\n",
    "df = df.sort_values('salary', ascending=False).reset_index()\n",
    "\n",
    "# Shorten this one name for plotting\n",
    "df.ix[df['College'] == 'University of Mount Union', 'College'] = 'Mount Union'"
   ]
  },
  {
   "cell_type": "code",
   "execution_count": null,
   "metadata": {
    "colab": {
     "autoexec": {
      "startup": false,
      "wait_interval": 0
     }
    },
    "colab_type": "code",
    "id": "KHeNb8oLaKSe"
   },
   "outputs": [],
   "source": [
    "# Create the basic figure\n",
    "plt.figure(figsize=(10, 8))\n",
    "sns.barplot(x = 'salary', y = 'President', data = df, \n",
    "            color = 'tomato', edgecolor = 'k', linewidth = 2)\n",
    "\n",
    "# Add text showing values and colleges\n",
    "for i, row in df.iterrows():\n",
    "  plt.text(x = row['salary'] + 6000, y = i + 0.15, s = '$%d' % (round(row['salary'] / 1000) * 1000))\n",
    "  plt.text(x = 5000, y = i + 0.15, s = row['College'], size = 14)\n",
    "\n",
    "# Labels are a must!\n",
    "plt.xticks(size = 16); plt.yticks(size = 18)\n",
    "plt.xlabel('Total Compensation ($)')\n",
    "plt.ylabel('President') \n",
    "plt.title('2015 Compensation of Private Ohio College Presidents');"
   ]
  },
  {
   "cell_type": "code",
   "execution_count": null,
   "metadata": {
    "colab": {
     "autoexec": {
      "startup": false,
      "wait_interval": 0
     }
    },
    "colab_type": "code",
    "id": "NEO_bUhSNuWT"
   },
   "outputs": [],
   "source": [
    "# Calculate value of 5 minutes of your presidents time\n",
    "five_minutes_fraction = 5 / (2000 * 60)\n",
    "total_df = pd.DataFrame(df.groupby('College')['salary'].sum())\n",
    "total_df['five_minutes_cost'] = round(total_df['salary'] * five_minutes_fraction)\n",
    "total_df = total_df.sort_values('five_minutes_cost', ascending = False).reset_index()\n",
    "\n",
    "total_df"
   ]
  },
  {
   "cell_type": "markdown",
   "metadata": {
    "colab_type": "text",
    "id": "ctCFhJPlZxAs"
   },
   "source": [
    "## Final Product\n",
    "\n",
    "After several attempts (I have not shown all my failures along the way), we can create the final plot: how much are you paying for five minutes of your president's time. I wouldn't say the plot is production quality, but it is a good ending point for this project!"
   ]
  },
  {
   "cell_type": "code",
   "execution_count": null,
   "metadata": {
    "colab": {
     "autoexec": {
      "startup": false,
      "wait_interval": 0
     }
    },
    "colab_type": "code",
    "id": "wIYvBEASRGnX"
   },
   "outputs": [],
   "source": [
    "# Text for caption\n",
    "txt = 'Calculated from 2015 Total Compensation assuming 2000 hrs worked/year. Source: Chronical of Higher Education'\n",
    "\n",
    "# Create the basic barplot\n",
    "plt.figure(figsize=(10, 8))\n",
    "sns.barplot(x = 'five_minutes_cost', y = 'College', data = total_df, \n",
    "            color = 'red', edgecolor = 'k', linewidth = 2)\n",
    "\n",
    "# Add the text with the value\n",
    "for i, row in total_df.iterrows():\n",
    "  plt.text(x = row['five_minutes_cost'] + 0.5, y = i + 0.15, \n",
    "           s = '$%d' % (row['five_minutes_cost']), size = 18)\n",
    "\n",
    "# Add the caption\n",
    "plt.text(x = -5, y = 20, s = txt, size = 14)\n",
    "\n",
    "# Add the labels\n",
    "plt.xticks(size = 16); plt.yticks(size = 18)\n",
    "plt.xlabel('Value ($)')\n",
    "plt.ylabel('') \n",
    "plt.title(\"Value of Five Minutes of Your President's Time\");"
   ]
  },
  {
   "cell_type": "code",
   "execution_count": null,
   "metadata": {
    "colab": {
     "autoexec": {
      "startup": false,
      "wait_interval": 0
     }
    },
    "colab_type": "code",
    "id": "JDt9iuHnV8qy"
   },
   "outputs": [],
   "source": []
  }
 ],
 "metadata": {
  "colab": {
   "default_view": {},
   "name": "Web Scraping, Regular Expressions, and Visualization .ipynb",
   "provenance": [],
   "version": "0.3.2",
   "views": {}
  },
  "kernelspec": {
   "display_name": "Python 3",
   "language": "python",
   "name": "python3"
  },
  "language_info": {
   "codemirror_mode": {
    "name": "ipython",
    "version": 3
   },
   "file_extension": ".py",
   "mimetype": "text/x-python",
   "name": "python",
   "nbconvert_exporter": "python",
   "pygments_lexer": "ipython3",
   "version": "3.8.5"
  }
 },
 "nbformat": 4,
 "nbformat_minor": 4
}
